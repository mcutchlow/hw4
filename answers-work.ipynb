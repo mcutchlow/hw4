{
 "cells": [
  {
   "cell_type": "code",
   "execution_count": 2,
   "metadata": {},
   "outputs": [
    {
     "data": {
      "text/html": [
       "<div>\n",
       "<style scoped>\n",
       "    .dataframe tbody tr th:only-of-type {\n",
       "        vertical-align: middle;\n",
       "    }\n",
       "\n",
       "    .dataframe tbody tr th {\n",
       "        vertical-align: top;\n",
       "    }\n",
       "\n",
       "    .dataframe thead th {\n",
       "        text-align: right;\n",
       "    }\n",
       "</style>\n",
       "<table border=\"1\" class=\"dataframe\">\n",
       "  <thead>\n",
       "    <tr style=\"text-align: right;\">\n",
       "      <th></th>\n",
       "      <th>Department</th>\n",
       "      <th>Course Number</th>\n",
       "      <th>Description</th>\n",
       "      <th>Terms Offered</th>\n",
       "      <th>Equivalent Courses</th>\n",
       "      <th>Prerequisites</th>\n",
       "      <th>Instructors</th>\n",
       "    </tr>\n",
       "  </thead>\n",
       "  <tbody>\n",
       "    <tr>\n",
       "      <th>0</th>\n",
       "      <td>ANTH</td>\n",
       "      <td>10100</td>\n",
       "      <td>Classically defined as the 'science of humanki...</td>\n",
       "      <td>Unspecified</td>\n",
       "      <td>Unspecified</td>\n",
       "      <td>Designed as a first course in Anthropology</td>\n",
       "      <td>Staff</td>\n",
       "    </tr>\n",
       "    <tr>\n",
       "      <th>1</th>\n",
       "      <td>ANTH</td>\n",
       "      <td>10107</td>\n",
       "      <td>The crisis of nature and technology is at the ...</td>\n",
       "      <td>Unspecified</td>\n",
       "      <td>CEGU 20107, HIPS 20107</td>\n",
       "      <td>Unspecified</td>\n",
       "      <td>Ashima Mittal</td>\n",
       "    </tr>\n",
       "    <tr>\n",
       "      <th>2</th>\n",
       "      <td>ANTH</td>\n",
       "      <td>12800</td>\n",
       "      <td>Whose land are we on? What does it mean to be ...</td>\n",
       "      <td>Winter</td>\n",
       "      <td>RDIN 12300, CRES 12800, CHST 12300, HIST 17800</td>\n",
       "      <td>Unspecified</td>\n",
       "      <td>Teresa Montoya and Matthew Kruer</td>\n",
       "    </tr>\n",
       "    <tr>\n",
       "      <th>3</th>\n",
       "      <td>ANTH</td>\n",
       "      <td>20006</td>\n",
       "      <td>This course approaches bodies as points of ins...</td>\n",
       "      <td>Unspecified</td>\n",
       "      <td>GNSE 24006, RLST 26006</td>\n",
       "      <td>Unspecified</td>\n",
       "      <td>Mareike Winchell</td>\n",
       "    </tr>\n",
       "    <tr>\n",
       "      <th>4</th>\n",
       "      <td>ANTH</td>\n",
       "      <td>20537</td>\n",
       "      <td>In America, the Black Panther Party and its le...</td>\n",
       "      <td>Spring</td>\n",
       "      <td>RLST 26674, GLST 26674, RDIN 26674</td>\n",
       "      <td>Unspecified</td>\n",
       "      <td>Andrew Kunze</td>\n",
       "    </tr>\n",
       "  </tbody>\n",
       "</table>\n",
       "</div>"
      ],
      "text/plain": [
       "  Department  Course Number  \\\n",
       "0       ANTH          10100   \n",
       "1       ANTH          10107   \n",
       "2       ANTH          12800   \n",
       "3       ANTH          20006   \n",
       "4       ANTH          20537   \n",
       "\n",
       "                                         Description Terms Offered  \\\n",
       "0  Classically defined as the 'science of humanki...   Unspecified   \n",
       "1  The crisis of nature and technology is at the ...   Unspecified   \n",
       "2  Whose land are we on? What does it mean to be ...        Winter   \n",
       "3  This course approaches bodies as points of ins...   Unspecified   \n",
       "4  In America, the Black Panther Party and its le...        Spring   \n",
       "\n",
       "                               Equivalent Courses  \\\n",
       "0                                     Unspecified   \n",
       "1                          CEGU 20107, HIPS 20107   \n",
       "2  RDIN 12300, CRES 12800, CHST 12300, HIST 17800   \n",
       "3                          GNSE 24006, RLST 26006   \n",
       "4              RLST 26674, GLST 26674, RDIN 26674   \n",
       "\n",
       "                                Prerequisites  \\\n",
       "0  Designed as a first course in Anthropology   \n",
       "1                                 Unspecified   \n",
       "2                                 Unspecified   \n",
       "3                                 Unspecified   \n",
       "4                                 Unspecified   \n",
       "\n",
       "                        Instructors  \n",
       "0                             Staff  \n",
       "1                     Ashima Mittal  \n",
       "2  Teresa Montoya and Matthew Kruer  \n",
       "3                  Mareike Winchell  \n",
       "4                      Andrew Kunze  "
      ]
     },
     "execution_count": 2,
     "metadata": {},
     "output_type": "execute_result"
    }
   ],
   "source": [
    "import pandas as pd\n",
    "\n",
    "df = pd.read_csv(\"catalog-2.csv\")\n",
    "df.head()"
   ]
  },
  {
   "cell_type": "code",
   "execution_count": 3,
   "metadata": {},
   "outputs": [
    {
     "data": {
      "text/plain": [
       "4944"
      ]
     },
     "execution_count": 3,
     "metadata": {},
     "output_type": "execute_result"
    }
   ],
   "source": [
    "# Q1\n",
    "\n",
    "len(df)"
   ]
  },
  {
   "cell_type": "code",
   "execution_count": 5,
   "metadata": {},
   "outputs": [
    {
     "data": {
      "text/plain": [
       "3447"
      ]
     },
     "execution_count": 5,
     "metadata": {},
     "output_type": "execute_result"
    }
   ],
   "source": [
    "# Q2\n",
    "\n",
    "copy = df.copy()\n",
    "\n",
    "\n",
    "copy['Course'] = copy['Department']+ pd.Series(copy['Course Number'].apply(lambda x: \" \"+str(x)))\n",
    "\n",
    "copy\n",
    "\n",
    "unique_classes = pd.DataFrame(columns=df.columns)\n",
    "\n",
    "course_tracker = []\n",
    "df_indices = []\n",
    "for index, row in copy.iterrows():\n",
    "    if row['Course'] not in course_tracker:\n",
    "        df_indices.append(index)\n",
    "        course_tracker.append(row['Course'])\n",
    "        equiv_courses = [val.strip() for val in row['Equivalent Courses'].split(',')]\n",
    "        course_tracker += equiv_courses\n",
    "\n",
    "\n",
    "df_new = copy.loc[df_indices]\n",
    "len(df_new)"
   ]
  },
  {
   "cell_type": "code",
   "execution_count": 11,
   "metadata": {},
   "outputs": [
    {
     "name": "stdout",
     "output_type": "stream",
     "text": [
      "Department counts saved to department_counts.csv\n"
     ]
    },
    {
     "data": {
      "text/html": [
       "<div>\n",
       "<style scoped>\n",
       "    .dataframe tbody tr th:only-of-type {\n",
       "        vertical-align: middle;\n",
       "    }\n",
       "\n",
       "    .dataframe tbody tr th {\n",
       "        vertical-align: top;\n",
       "    }\n",
       "\n",
       "    .dataframe thead th {\n",
       "        text-align: right;\n",
       "    }\n",
       "</style>\n",
       "<table border=\"1\" class=\"dataframe\">\n",
       "  <thead>\n",
       "    <tr style=\"text-align: right;\">\n",
       "      <th></th>\n",
       "      <th>Department</th>\n",
       "      <th>Number of Courses</th>\n",
       "    </tr>\n",
       "  </thead>\n",
       "  <tbody>\n",
       "    <tr>\n",
       "      <th>14</th>\n",
       "      <td>BIOS</td>\n",
       "      <td>137</td>\n",
       "    </tr>\n",
       "  </tbody>\n",
       "</table>\n",
       "</div>"
      ],
      "text/plain": [
       "   Department  Number of Courses\n",
       "14       BIOS                137"
      ]
     },
     "execution_count": 11,
     "metadata": {},
     "output_type": "execute_result"
    }
   ],
   "source": [
    "# Q3\n",
    "\n",
    "department_counts = df_new.groupby('Department').size().reset_index(name='Number of Courses')\n",
    "department_counts.to_csv('department_counts.csv', index=False)\n",
    "\n",
    "print(\"Department counts saved to department_counts.csv\")\n",
    "\n",
    "dept_counts = pd.read_csv(\"department_counts.csv\")\n",
    "dept_counts[dept_counts['Number of Courses']==dept_counts['Number of Courses'].max()]"
   ]
  },
  {
   "cell_type": "code",
   "execution_count": 7,
   "metadata": {},
   "outputs": [
    {
     "name": "stdout",
     "output_type": "stream",
     "text": [
      "Number of courses offered in each term:\n",
      "Autumn: 866\n",
      "Winter: 789\n",
      "Spring: 898\n"
     ]
    }
   ],
   "source": [
    "# Q4\n",
    "\n",
    "parsed_terms = pd.DataFrame(columns=['Autumn', 'Winter', 'Spring'])\n",
    "\n",
    "for index, row in df_new.iterrows():\n",
    "    autumn_count = 0\n",
    "    winter_count = 0\n",
    "    spring_count = 0\n",
    "    \n",
    "    terms = row['Terms Offered']\n",
    "    \n",
    "    if 'Autumn' in terms:\n",
    "        autumn_count += 1\n",
    "    if 'Winter' in terms:\n",
    "        winter_count += 1\n",
    "    if 'Spring' in terms:\n",
    "        spring_count += 1\n",
    "    \n",
    "    parsed_terms.loc[index] = [autumn_count, winter_count, spring_count]\n",
    "\n",
    "term_counts = parsed_terms.sum()\n",
    "\n",
    "print(\"Number of courses offered in each term:\")\n",
    "print(\"Autumn:\", term_counts['Autumn'])\n",
    "print(\"Winter:\", term_counts['Winter'])\n",
    "print(\"Spring:\", term_counts['Spring'])"
   ]
  }
 ],
 "metadata": {
  "kernelspec": {
   "display_name": "Python 3.10.8 64-bit",
   "language": "python",
   "name": "python3"
  },
  "language_info": {
   "codemirror_mode": {
    "name": "ipython",
    "version": 3
   },
   "file_extension": ".py",
   "mimetype": "text/x-python",
   "name": "python",
   "nbconvert_exporter": "python",
   "pygments_lexer": "ipython3",
   "version": "3.10.8"
  },
  "orig_nbformat": 4,
  "vscode": {
   "interpreter": {
    "hash": "aee8b7b246df8f9039afb4144a1f6fd8d2ca17a180786b69acc140d282b71a49"
   }
  }
 },
 "nbformat": 4,
 "nbformat_minor": 2
}
